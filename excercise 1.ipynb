{
 "cells": [
  {
   "cell_type": "code",
   "execution_count": 3,
   "metadata": {},
   "outputs": [
    {
     "name": "stdout",
     "output_type": "stream",
     "text": [
      "enter the side4\n",
      "area of the square is 16\n"
     ]
    }
   ],
   "source": [
    "n=int(input(\"enter the side \"))\n",
    "a=n*n\n",
    "print(\"area of the square is\",a)"
   ]
  },
  {
   "cell_type": "code",
   "execution_count": 4,
   "metadata": {},
   "outputs": [
    {
     "name": "stdout",
     "output_type": "stream",
     "text": [
      "enter the base of right angled triangle4\n",
      "enter the height of right angled triangle5\n",
      "area of the triangle is 10.0\n"
     ]
    }
   ],
   "source": [
    "b=int(input(\"enter the base of right angled triangle \"))\n",
    "h=int(input(\"enter the height of right angled triangle \"))\n",
    "a=(b*h)/2\n",
    "print(\"area of the triangle is\",a)"
   ]
  },
  {
   "cell_type": "code",
   "execution_count": 13,
   "metadata": {},
   "outputs": [
    {
     "name": "stdout",
     "output_type": "stream",
     "text": [
      "enter your name hasna\n",
      "hello ,hasna!\n"
     ]
    }
   ],
   "source": [
    "name=input(\"enter your name \")\n",
    "print('hello ,'+name+'!')"
   ]
  },
  {
   "cell_type": "code",
   "execution_count": 11,
   "metadata": {},
   "outputs": [
    {
     "name": "stdout",
     "output_type": "stream",
     "text": [
      "enter a number 6\n",
      "5 6 7\n"
     ]
    }
   ],
   "source": [
    "n=int(input(\"enter a number \"))\n",
    "print(n-1,n,n+1)"
   ]
  },
  {
   "cell_type": "code",
   "execution_count": 12,
   "metadata": {},
   "outputs": [
    {
     "name": "stdout",
     "output_type": "stream",
     "text": [
      "enter the priciple amount3000\n",
      "enter the rate of interest4\n",
      "enter the number of years2\n",
      "simple interest is 240.0\n"
     ]
    }
   ],
   "source": [
    "p=int(input(\"enter the priciple amount\"))\n",
    "r=int(input(\"enter the rate of interest\"))\n",
    "n=int(input(\"enter the number of years\"))\n",
    "si=(p*n*r)/100\n",
    "print(\"simple interest is\",si)"
   ]
  },
  {
   "cell_type": "code",
   "execution_count": null,
   "metadata": {
    "collapsed": true
   },
   "outputs": [],
   "source": []
  },
  {
   "cell_type": "code",
   "execution_count": null,
   "metadata": {
    "collapsed": true
   },
   "outputs": [],
   "source": []
  },
  {
   "cell_type": "code",
   "execution_count": null,
   "metadata": {
    "collapsed": true
   },
   "outputs": [],
   "source": []
  },
  {
   "cell_type": "code",
   "execution_count": null,
   "metadata": {
    "collapsed": true
   },
   "outputs": [],
   "source": []
  }
 ],
 "metadata": {
  "kernelspec": {
   "display_name": "Python 3",
   "language": "python",
   "name": "python3"
  },
  "language_info": {
   "codemirror_mode": {
    "name": "ipython",
    "version": 3
   },
   "file_extension": ".py",
   "mimetype": "text/x-python",
   "name": "python",
   "nbconvert_exporter": "python",
   "pygments_lexer": "ipython3",
   "version": "3.6.3"
  }
 },
 "nbformat": 4,
 "nbformat_minor": 2
}
