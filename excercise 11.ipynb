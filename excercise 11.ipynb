{
 "cells": [
  {
   "cell_type": "code",
   "execution_count": 2,
   "metadata": {},
   "outputs": [
    {
     "name": "stdout",
     "output_type": "stream",
     "text": [
      "enter the source file to be copied:myfile.txt\n",
      "enter the destination file:new.txt\n",
      "file copied\n"
     ]
    }
   ],
   "source": [
    "#program to copy a text file to another file\n",
    "file1=input(\"enter the source file to be copied:\")\n",
    "file2=input(\"enter the destination file:\")\n",
    "fr=open(file1,\"r\")\n",
    "fw=open(file2,\"w\")\n",
    "for line in fr.readlines():\n",
    "    fw.write(line)\n",
    "fr.close()\n",
    "fw.close()\n",
    "print(\"file copied\")"
   ]
  },
  {
   "cell_type": "code",
   "execution_count": 1,
   "metadata": {},
   "outputs": [
    {
     "name": "stdout",
     "output_type": "stream",
     "text": [
      "enter the source file to be appende:myfile.txt\n",
      "enter the destination file where it has to be append:n1.txt\n",
      "file appended\n"
     ]
    }
   ],
   "source": [
    "#a program to append a file with the contents of another file.\n",
    "file1=input(\"enter the source file to be appende:\")\n",
    "file2=input(\"enter the destination file where it has to be append:\")\n",
    "fr=open(file1,\"r\")\n",
    "fw=open(file2,\"a\")\n",
    "for line in fr.readlines():\n",
    "    fw.write(line)\n",
    "fr.close()\n",
    "fw.close()\n",
    "print(\"file appended\")"
   ]
  },
  {
   "cell_type": "code",
   "execution_count": 1,
   "metadata": {},
   "outputs": [
    {
     "name": "stdout",
     "output_type": "stream",
     "text": [
      "Enter the source file name :myfile.txt\n",
      "3\n"
     ]
    }
   ],
   "source": [
    "#number of lines in a file\n",
    "l=[]\n",
    "file1=input(\"Enter the source file name :\")\n",
    "f1=open(file1,\"r\")\n",
    "for line in f1.readlines():\n",
    "    l.append(line)\n",
    "print(len(l))\n",
    "\n"
   ]
  },
  {
   "cell_type": "code",
   "execution_count": 4,
   "metadata": {},
   "outputs": [
    {
     "name": "stdout",
     "output_type": "stream",
     "text": [
      "Enter the source file name : myfile.txt\n",
      "Enter the desination file name: n.txt\n",
      "odd lines copied...\n"
     ]
    }
   ],
   "source": [
    "#Copy odd lines of one file to other\n",
    "file1=input(\"Enter the source file name : \")\n",
    "file2=input(\"Enter the desination file name: \")\n",
    "f1=open(file1,\"r\")\n",
    "f2=open(file2,\"w\")\n",
    "i=0\n",
    "for line in f1.readlines():\n",
    "    i=i+1\n",
    "    if i%2 ==0:\n",
    "        continue\n",
    "    f2.write(line)\n",
    "f1.close()\n",
    "f2.close()\n",
    "print(\"odd lines copied...\")\n",
    "\n"
   ]
  },
  {
   "cell_type": "code",
   "execution_count": 5,
   "metadata": {},
   "outputs": [
    {
     "name": "stdout",
     "output_type": "stream",
     "text": [
      "Enter new source csv file name : filename.csv\n",
      "Enter coma seperated empid,empname,dptmnt,dob,salary : 101,hasna,sales,15-10-1999,100000\n",
      "Enter coma seperated empid,empname,dptmnt,dob,salary : 102,ashik,manager,31-1-1997,100000\n",
      "{'empid': '101', 'empname': 'hasna', 'dptmnt': 'sales', 'dob': '15-10-1999', 'salary': '100000'}\n",
      "{'empid': '102', 'empname': 'ashik', 'dptmnt': 'manager', 'dob': '31-1-1997', 'salary': '100000'}\n"
     ]
    }
   ],
   "source": [
    "#Write a Python dictionary to a csv file. After writing the CSV file read the CSV file and display the content.\n",
    "import csv\n",
    "file1=input(\"Enter new source csv file name : \")\n",
    "with open(file1,\"a+\",newline='') as f1:\n",
    "    empdata=[\"empid\",\"empname\",\"dptmnt\",\"dob\",\"salary\"]\n",
    "    l=[]\n",
    "    writer=csv.DictWriter(f1,fieldnames=empdata)\n",
    "    writer.writeheader()\n",
    "    for i in range(2):\n",
    "        l=list(input(\"Enter coma seperated empid,empname,dptmnt,dob,salary : \").split(\",\"))\n",
    "        writer.writerow({'empid':l[0],'empname':l[1],'dptmnt':l[2],'dob':l[3],'salary':l[4]})\n",
    "        l.clear()\n",
    "with open(file1,'r') as f2:\n",
    "    rdr=csv.DictReader(f2)\n",
    "    for item in rdr:\n",
    "        print(dict(item))"
   ]
  },
  {
   "cell_type": "code",
   "execution_count": 6,
   "metadata": {},
   "outputs": [
    {
     "name": "stdout",
     "output_type": "stream",
     "text": [
      "Enter csv file name with extention csv : filename.csv\n",
      "['empid', 'empname', 'dptmnt', 'dob', 'salary']\n",
      "['101', 'hasna', 'sales', '15-10-1999', '100000']\n",
      "['102', 'ashik', 'manager', '31-1-1997', '100000']\n"
     ]
    }
   ],
   "source": [
    "#Python program to read each row from a given csv file and print a list of strings\n",
    "import csv\n",
    "fname=input(\"Enter csv file name with extention csv : \")\n",
    "f1=open(fname,\"r\")\n",
    "reader=csv.reader(f1)\n",
    "for row in reader:\n",
    "    print(row)\n",
    "f1.close()"
   ]
  },
  {
   "cell_type": "code",
   "execution_count": 7,
   "metadata": {},
   "outputs": [
    {
     "name": "stdout",
     "output_type": "stream",
     "text": [
      "Enter the new file name(extention csv): new.csv\n",
      "Enter number of dept: 2\n",
      "Enter coma seperated deptId,DeptName,TotalEmp,Location : 101,sales,55,nagaland\n",
      "Enter coma seperated deptId,DeptName,TotalEmp,Location : 220,production,178,qatar\n",
      "DepartmentId Department\n",
      "101            sales\n",
      "220            production\n"
     ]
    }
   ],
   "source": [
    "#Create a dept csv file-Deptid,Deptname,Totalemployees,location.Read specific columns-Deptid,Deptname\n",
    "#of csv file and print content of columns\n",
    "import csv\n",
    "file1=input(\"Enter the new file name(extention csv): \")\n",
    "with open(file1,\"a+\",newline='')as f1:\n",
    "    depdata=[\"DeptId\",\"DeptName\",\"TotalEmp\",\"Location\"]\n",
    "    l=[]\n",
    "    writer=csv.DictWriter(f1,fieldnames=depdata)\n",
    "    writer.writeheader()\n",
    "    n=int(input(\"Enter number of dept: \"))\n",
    "    for i in range(n):\n",
    "        l=list(input(\"Enter coma seperated deptId,DeptName,TotalEmp,Location : \").split(\",\"))\n",
    "        writer.writerow({'DeptId':l[0],'DeptName':l[1],'TotalEmp':l[2],'Location':l[3]})\n",
    "        l.clear()\n",
    "print(\"DepartmentId Department\")\n",
    "with open(file1,'r') as f2:\n",
    "    rdr=csv.DictReader(f2)\n",
    "    for item in rdr:\n",
    "        print(item[\"DeptId\"],\"          \",item[\"DeptName\"])\n"
   ]
  },
  {
   "cell_type": "code",
   "execution_count": null,
   "metadata": {
    "collapsed": true
   },
   "outputs": [],
   "source": []
  }
 ],
 "metadata": {
  "kernelspec": {
   "display_name": "Python 3",
   "language": "python",
   "name": "python3"
  },
  "language_info": {
   "codemirror_mode": {
    "name": "ipython",
    "version": 3
   },
   "file_extension": ".py",
   "mimetype": "text/x-python",
   "name": "python",
   "nbconvert_exporter": "python",
   "pygments_lexer": "ipython3",
   "version": "3.6.3"
  }
 },
 "nbformat": 4,
 "nbformat_minor": 2
}
