{
 "cells": [
  {
   "cell_type": "code",
   "execution_count": 14,
   "metadata": {},
   "outputs": [
    {
     "name": "stdout",
     "output_type": "stream",
     "text": [
      "enter temperature in celsius:2\n",
      "temperature in farenhiet is 35.6\n"
     ]
    }
   ],
   "source": [
    "#program to convert temperature in celsius to farenhiet\n",
    "c=float(input(\"enter temperature in celsius:\"))\n",
    "f=c*9/5+32\n",
    "print(\"temperature in farenhiet is\",f)"
   ]
  },
  {
   "cell_type": "code",
   "execution_count": 15,
   "metadata": {},
   "outputs": [
    {
     "name": "stdout",
     "output_type": "stream",
     "text": [
      "enter the kilometers:50\n",
      "31.0685\n"
     ]
    }
   ],
   "source": [
    "#program to convert kilometers to \n",
    "k=int(input(\"enter the kilometers:\"))\n",
    "x=k*0.62137\n",
    "print(x)"
   ]
  },
  {
   "cell_type": "code",
   "execution_count": 12,
   "metadata": {},
   "outputs": [
    {
     "name": "stdout",
     "output_type": "stream",
     "text": [
      "enter n1:2\n",
      "enter n2:8\n",
      "enter n3:4\n",
      "8\n"
     ]
    }
   ],
   "source": [
    "a=int(input(\"enter n1:\"))\n",
    "b=int(input(\"enter n2:\"))\n",
    "c=int(input(\"enter n3:\"))\n",
    "print(max(a,b,c))"
   ]
  },
  {
   "cell_type": "code",
   "execution_count": null,
   "metadata": {
    "collapsed": true
   },
   "outputs": [],
   "source": []
  },
  {
   "cell_type": "code",
   "execution_count": null,
   "metadata": {
    "collapsed": true
   },
   "outputs": [],
   "source": []
  }
 ],
 "metadata": {
  "kernelspec": {
   "display_name": "Python 3",
   "language": "python",
   "name": "python3"
  },
  "language_info": {
   "codemirror_mode": {
    "name": "ipython",
    "version": 3
   },
   "file_extension": ".py",
   "mimetype": "text/x-python",
   "name": "python",
   "nbconvert_exporter": "python",
   "pygments_lexer": "ipython3",
   "version": "3.6.3"
  }
 },
 "nbformat": 4,
 "nbformat_minor": 2
}
