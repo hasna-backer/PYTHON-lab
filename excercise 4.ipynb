{
 "cells": [
  {
   "cell_type": "code",
   "execution_count": 8,
   "metadata": {},
   "outputs": [
    {
     "name": "stdout",
     "output_type": "stream",
     "text": [
      "enter your first string:hello\n",
      "enter your second string:world\n",
      "strings after exchanging first 2 letters: wollo herld\n"
     ]
    }
   ],
   "source": [
    "#2 seperate strings as a single string after exchanging first 2 letters\n",
    "a=input(\"enter your first string:\")\n",
    "b=input(\"enter your second string:\")\n",
    "\n",
    "\n",
    "x=b[:2]+a[2:]+' '+a[:2]+b[2:]\n",
    "\n",
    "\n",
    "print(\"strings after exchanging first 2 letters:\",x)\n",
    "\n"
   ]
  },
  {
   "cell_type": "code",
   "execution_count": 3,
   "metadata": {},
   "outputs": [
    {
     "name": "stdout",
     "output_type": "stream",
     "text": [
      "enter your string:python\n",
      "string after exchanging first and last characters of the given string is: ythonp\n"
     ]
    }
   ],
   "source": [
    "#first and last charecters of the string is exchanged\n",
    "str=input(\"enter your string:\")\n",
    "n=len(str)\n",
    "\n",
    "\n",
    "x=str[n:]\n",
    "y=str[1:n]\n",
    "z=str[:1]\n",
    "\n",
    "print(\"string after exchanging first and last characters of the given string is:\",x+y+z)\n"
   ]
  },
  {
   "cell_type": "code",
   "execution_count": 6,
   "metadata": {},
   "outputs": [
    {
     "name": "stdout",
     "output_type": "stream",
     "text": [
      "enter your string:python\n",
      "new string made of first two and last two characters from given string: pyon\n"
     ]
    }
   ],
   "source": [
    "#to get a string made of first 2 and last 2 characters from given string\n",
    "str=input(\"enter your string:\")\n",
    "\n",
    "x=str[:2]\n",
    "y=str[n-2:]\n",
    "print\n",
    "print(\"new string made of first two and last two characters from given string:\",x+y)"
   ]
  },
  {
   "cell_type": "code",
   "execution_count": 2,
   "metadata": {},
   "outputs": [
    {
     "name": "stdout",
     "output_type": "stream",
     "text": [
      "enter a string except\n",
      "exc$pt\n"
     ]
    }
   ],
   "source": [
    "#to get a string,where all occurrence of its first char have been changed to $ except first character\n",
    "str=input(\"enter a string \")\n",
    "x=str[0]\n",
    "y=str.replace(str[0],'$')\n",
    "z=x+y[1:]\n",
    "print(z)"
   ]
  },
  {
   "cell_type": "code",
   "execution_count": null,
   "metadata": {
    "collapsed": true
   },
   "outputs": [],
   "source": []
  }
 ],
 "metadata": {
  "kernelspec": {
   "display_name": "Python 3",
   "language": "python",
   "name": "python3"
  },
  "language_info": {
   "codemirror_mode": {
    "name": "ipython",
    "version": 3
   },
   "file_extension": ".py",
   "mimetype": "text/x-python",
   "name": "python",
   "nbconvert_exporter": "python",
   "pygments_lexer": "ipython3",
   "version": "3.6.3"
  }
 },
 "nbformat": 4,
 "nbformat_minor": 2
}
