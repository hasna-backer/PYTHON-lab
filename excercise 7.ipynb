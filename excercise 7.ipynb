{
 "cells": [
  {
   "cell_type": "code",
   "execution_count": 1,
   "metadata": {},
   "outputs": [
    {
     "name": "stdout",
     "output_type": "stream",
     "text": [
      "enter numbers:1,2,3,4\n",
      "square of given numbers are:  [1, 4, 9, 16]\n"
     ]
    }
   ],
   "source": [
    "#to get squares of numbers\n",
    "n=list(map(int,input(\"enter numbers:\").split(\",\")))\n",
    "new=[x*x for x in n]\n",
    "print(\"square of given numbers are: \",new)\n"
   ]
  },
  {
   "cell_type": "code",
   "execution_count": 3,
   "metadata": {},
   "outputs": [
    {
     "name": "stdout",
     "output_type": "stream",
     "text": [
      "enter numbers: 1,1,1,11,-11\n",
      "postive numbers are:  [1, 1, 1, 11]\n"
     ]
    }
   ],
   "source": [
    "#to print postive numbers\n",
    "n=list(map(int,input(\"enter numbers: \").split(\",\")))\n",
    "new=[x for x in n if x>0]\n",
    "print(\"postive numbers are: \",new)\n"
   ]
  },
  {
   "cell_type": "code",
   "execution_count": 4,
   "metadata": {},
   "outputs": [
    {
     "name": "stdout",
     "output_type": "stream",
     "text": [
      "enter a word: ashik\n",
      "list of vowels in the given word:  ['a', 'i']\n"
     ]
    }
   ],
   "source": [
    "n=input(\"enter a word: \")\n",
    "l=list(n)\n",
    "m=['a','i','o','u','e','A','E','I','O','U']\n",
    "s=[]\n",
    "[s.append(x) for x in l if x in m and x not in s ]\n",
    "print(\"list of vowels in the given word: \",s)"
   ]
  },
  {
   "cell_type": "code",
   "execution_count": 5,
   "metadata": {},
   "outputs": [
    {
     "name": "stdout",
     "output_type": "stream",
     "text": [
      "enter a word ashik\n",
      "ordinal value: [97, 115, 104, 105, 107]\n"
     ]
    }
   ],
   "source": [
    "#to print ordinal value\n",
    "word=input(\"enter a word \")\n",
    "new=[ord(x) for x in word]\n",
    "print(\"ordinal value:\", new)"
   ]
  },
  {
   "cell_type": "code",
   "execution_count": 6,
   "metadata": {},
   "outputs": [
    {
     "name": "stdout",
     "output_type": "stream",
     "text": [
      "enter numbers: 11,1111,111,2\n",
      "the required list is:  [11, 'over', 'over', 2]\n"
     ]
    }
   ],
   "source": [
    "#all values greater than 100, display 'over'\n",
    "n=list(map(int,input(\"enter numbers: \").split(\",\")))\n",
    "for i in range(len(n)):\n",
    "    if(n[i]>100):\n",
    "        n[i]=\"over\"\n",
    "print(\"the required list is: \",n)"
   ]
  },
  {
   "cell_type": "code",
   "execution_count": 7,
   "metadata": {},
   "outputs": [
    {
     "name": "stdout",
     "output_type": "stream",
     "text": [
      "enter names seperated by commas: hasna,ashik\n",
      "no.occurrence of a in hasna is: 2\n",
      "no.occurrence of a in ashik is: 1\n",
      "total occurrence of a is:  3\n"
     ]
    }
   ],
   "source": [
    "n=input(\"enter names seperated by commas: \")\n",
    "l=n.split(\",\");\n",
    "t=0\n",
    "for i in l:\n",
    "    print(\"no.occurrence of a in\",i,\"is:\",i.count('a'))\n",
    "    t=t+i.count(\"a\")\n",
    "print(\"total occurrence of a is: \",t)    "
   ]
  },
  {
   "cell_type": "code",
   "execution_count": 8,
   "metadata": {},
   "outputs": [
    {
     "name": "stdout",
     "output_type": "stream",
     "text": [
      "enter numbers:1,2,3\n",
      "enter numbers:3,4\n",
      "[1, 2, 3]\n",
      "[3, 4]\n",
      "lists are not same length\n",
      "both list have different sums\n",
      "Same members are:  [3]\n"
     ]
    }
   ],
   "source": [
    "n1=list(map(int,input(\"enter numbers:\").split(\",\")))\n",
    "n2=list(map(int,input(\"enter numbers:\").split(\",\")))\n",
    "print(n1)\n",
    "print(n2)\n",
    "s=i=0\n",
    "if len(n1)==len(n2):\n",
    "    print(\"list are same length\")\n",
    "else:\n",
    "    print(\"lists are not same length\")\n",
    "if(sum(n1)==sum(n2)):\n",
    "    print(\"sum is same\")\n",
    "else:\n",
    "    print(\"both list have different sums\")\n",
    "\n",
    "k=[i for i in n1 if i in n2]\n",
    "if len(k)!=0:\n",
    "    print(\"Same members are: \",k)\n",
    "else:\n",
    "    print(\"Nothing common in both lists\")"
   ]
  },
  {
   "cell_type": "code",
   "execution_count": 9,
   "metadata": {},
   "outputs": [
    {
     "name": "stdout",
     "output_type": "stream",
     "text": [
      "enter numbers1\n",
      "numbers other than even numbers: [1]\n"
     ]
    }
   ],
   "source": [
    "#to print odd numbers\n",
    "n=list(map(int,input(\"enter numbers\").split(\",\")))\n",
    "new=[x for x in n if x%2!=0]\n",
    "print(\"numbers other than even numbers:\",new)"
   ]
  },
  {
   "cell_type": "code",
   "execution_count": 10,
   "metadata": {},
   "outputs": [
    {
     "name": "stdout",
     "output_type": "stream",
     "text": [
      "Enter colors: red,blue\n",
      "Enter colors: red\n",
      "colours in first list which is not in 2nd list ['blue']\n"
     ]
    }
   ],
   "source": [
    "#print colours in first list which is not in 2nd list\n",
    "n1=list(input(\"Enter colors: \").split(\",\"))\n",
    "n2=list(input(\"Enter colors: \").split(\",\"))\n",
    "s=[x for x in n1 if x not in n2]\n",
    "print(\"colours in first list which is not in 2nd list\",s)"
   ]
  },
  {
   "cell_type": "code",
   "execution_count": 12,
   "metadata": {},
   "outputs": [
    {
     "name": "stdout",
     "output_type": "stream",
     "text": [
      "enter no. of values to be inserted:1\n",
      "enter a key value:22\n",
      "enter a value:ashik\n",
      "first dictionary is: dict_items([('22', 'ashik')])\n",
      "enter no. of values to be inserted:1\n",
      "enter a key value:33\n",
      "enter a value:hasna\n",
      "second dictionary is: dict_items([('33', 'hasna')])\n",
      "merged dictionary is:  dict_items([('22', 'ashik'), ('33', 'hasna')])\n"
     ]
    }
   ],
   "source": [
    "#merge 2 dictionaries\n",
    "n=int(input(\"enter no. of values to be inserted:\"))\n",
    "dict1={}\n",
    "for i in range(n):\n",
    "    k=input(\"enter a key value:\")\n",
    "    v=input(\"enter a value:\")\n",
    "    dict1[k]=v\n",
    "print(\"first dictionary is:\",dict1.items())\n",
    "n=int(input(\"enter no. of values to be inserted:\"))\n",
    "dict2={}\n",
    "for i in range(n):\n",
    "    k=input(\"enter a key value:\")\n",
    "    v=input(\"enter a value:\")\n",
    "    dict2[k]=v\n",
    "print(\"second dictionary is:\",dict2.items())\n",
    "dict1.update(dict2)\n",
    "print(\"merged dictionary is: \",dict1.items())"
   ]
  },
  {
   "cell_type": "code",
   "execution_count": 13,
   "metadata": {},
   "outputs": [
    {
     "name": "stdout",
     "output_type": "stream",
     "text": [
      "enter no. of values to be inserted: 2\n",
      "enter a key value: 22\n",
      "enter a value:ashik\n",
      "enter a key value: 25\n",
      "enter a value:hasna\n",
      "dictionary is dict_items([('22', 'ashik'), ('25', 'hasna')])\n",
      "dictionary sorted in ascending is:  [('22', 'ashik'), ('25', 'hasna')]\n",
      "dictionary sorted in descending is:  [('25', 'hasna'), ('22', 'ashik')]\n"
     ]
    }
   ],
   "source": [
    "#to sort dictionaries\n",
    "n=int(input(\"enter no. of values to be inserted: \"))\n",
    "dict1={}\n",
    "for i in range(n):\n",
    "    k=input(\"enter a key value: \")\n",
    "    v=input(\"enter a value:\" )\n",
    "    dict1[k]=v\n",
    "print(\"dictionary is\",dict1.items())\n",
    "a=sorted(dict1.items())\n",
    "d=sorted(dict1.items(),reverse=True)\n",
    "print(\"dictionary sorted in ascending is: \",a)\n",
    "print(\"dictionary sorted in descending is: \",d)"
   ]
  },
  {
   "cell_type": "markdown",
   "metadata": {},
   "source": [
    "## "
   ]
  }
 ],
 "metadata": {
  "kernelspec": {
   "display_name": "Python 3",
   "language": "python",
   "name": "python3"
  },
  "language_info": {
   "codemirror_mode": {
    "name": "ipython",
    "version": 3
   },
   "file_extension": ".py",
   "mimetype": "text/x-python",
   "name": "python",
   "nbconvert_exporter": "python",
   "pygments_lexer": "ipython3",
   "version": "3.6.3"
  }
 },
 "nbformat": 4,
 "nbformat_minor": 2
}
