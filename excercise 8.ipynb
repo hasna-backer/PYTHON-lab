{
 "cells": [
  {
   "cell_type": "code",
   "execution_count": 2,
   "metadata": {},
   "outputs": [
    {
     "name": "stdout",
     "output_type": "stream",
     "text": [
      "enter a number3\n",
      "enter a number3\n",
      "enter a number3\n"
     ]
    },
    {
     "data": {
      "text/plain": [
       "27"
      ]
     },
     "execution_count": 2,
     "metadata": {},
     "output_type": "execute_result"
    }
   ],
   "source": [
    "def sum(x, y, z):\n",
    "\n",
    "     sum = x + y + z\n",
    "  \n",
    "     if x == y == z:\n",
    "      sum = sum * 3\n",
    "     return sum\n",
    "a=int(input(\"enter a number\"))\n",
    "b=int(input(\"enter a number\"))\n",
    "c=int(input(\"enter a number\"))\n",
    "sum(a,b,c)\n",
    "\n",
    "\n"
   ]
  },
  {
   "cell_type": "code",
   "execution_count": 17,
   "metadata": {},
   "outputs": [
    {
     "name": "stdout",
     "output_type": "stream",
     "text": [
      "enter a number234\n",
      "sum is 9\n"
     ]
    }
   ],
   "source": [
    "def s(n):\n",
    "    sum=0\n",
    "    while(n>0):\n",
    "        d=int(n%10)\n",
    "        sum=sum+d\n",
    "        n=n/10\n",
    "    return sum\n",
    "a=int(input(\"enter a number\"))\n",
    "\n",
    "print(\"sum is\",s(a))"
   ]
  },
  {
   "cell_type": "code",
   "execution_count": 18,
   "metadata": {},
   "outputs": [
    {
     "name": "stdout",
     "output_type": "stream",
     "text": [
      "enter your string hi HASN\n",
      "we have  4 upper case letters and  2 small case letters\n"
     ]
    }
   ],
   "source": [
    "def ltr(s):\n",
    "    i=0\n",
    "    j=0\n",
    "    for c in s:\n",
    "        if c.isupper():\n",
    "            i=i+1\n",
    "        elif c.islower():\n",
    "            j=j+1\n",
    "    print(\"we have \",i,\"upper case letters and \",j,\"small case letters\")\n",
    "    \n",
    "s=input(\"enter your string \")\n",
    "ltr(s)"
   ]
  },
  {
   "cell_type": "code",
   "execution_count": 13,
   "metadata": {},
   "outputs": [
    {
     "name": "stdout",
     "output_type": "stream",
     "text": [
      "enter a number 1\n",
      " prime number\n"
     ]
    }
   ],
   "source": [
    "def prime(n):\n",
    "    i=\n",
    "    f=0\n",
    "    while n%i==0:\n",
    "        f=1\n",
    "        break\n",
    "    i=i+1\n",
    "    if f==1 and n!=2:\n",
    "        print(\" not a prime number\")\n",
    "    else:\n",
    "    \n",
    "        print(\" prime number\")\n",
    "    \n",
    "n=int(input(\"enter a number \"))\n",
    "prime(n)"
   ]
  },
  {
   "cell_type": "code",
   "execution_count": 2,
   "metadata": {},
   "outputs": [
    {
     "name": "stdout",
     "output_type": "stream",
     "text": [
      "enter a num23\n",
      "sum= 5\n"
     ]
    }
   ],
   "source": [
    "#sum of digit in simplest way\n",
    "def s(n):\n",
    "    sum=0\n",
    "    for i in n:\n",
    "        sum=sum+int(i)\n",
    "    print(\"sum=\",sum)   \n",
    "m=input(\"enter a num\")\n",
    "s(m)"
   ]
  },
  {
   "cell_type": "code",
   "execution_count": null,
   "metadata": {
    "collapsed": true
   },
   "outputs": [],
   "source": []
  }
 ],
 "metadata": {
  "kernelspec": {
   "display_name": "Python 3",
   "language": "python",
   "name": "python3"
  },
  "language_info": {
   "codemirror_mode": {
    "name": "ipython",
    "version": 3
   },
   "file_extension": ".py",
   "mimetype": "text/x-python",
   "name": "python",
   "nbconvert_exporter": "python",
   "pygments_lexer": "ipython3",
   "version": "3.6.3"
  }
 },
 "nbformat": 4,
 "nbformat_minor": 2
}
