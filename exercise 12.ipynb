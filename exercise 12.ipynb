{
 "cells": [
  {
   "cell_type": "code",
   "execution_count": 1,
   "metadata": {},
   "outputs": [
    {
     "name": "stdout",
     "output_type": "stream",
     "text": [
      "ENTER LENGTH OF FIRST RECTANGLE:2\n",
      "ENTER BREADTH OF FIRST RECTANGLE: 3\n",
      "ENTER LENGTH OF SECOND RECTANGLE:4\n",
      "ENTER BREADTH OF SECOND RECTANGLE:5\n",
      "PERIMETER OF FIRST:  10\n",
      "PERIMETER OF SECOND:  18\n",
      "SECOND RECTANGLE IS LARGER IN AREA AND THE DIFFERENCE IS, 14\n"
     ]
    }
   ],
   "source": [
    "# 1 area of rectangle using class and object\n",
    "class Rectangle:\n",
    "    def area(self,l,b):\n",
    "        return l*b\n",
    "    def pmtr(self,l,b):\n",
    "        return (l+b)*2\n",
    "r1=Rectangle()\n",
    "r2=Rectangle()\n",
    "l1=int(input(\"ENTER LENGTH OF FIRST RECTANGLE:\" ))\n",
    "b1=int(input(\"ENTER BREADTH OF FIRST RECTANGLE: \"))\n",
    "l2=int(input(\"ENTER LENGTH OF SECOND RECTANGLE:\" ))\n",
    "b2=int(input(\"ENTER BREADTH OF SECOND RECTANGLE:\" ))\n",
    "print(\"PERIMETER OF FIRST: \",r1.pmtr(l1,b1))\n",
    "print(\"PERIMETER OF SECOND: \",r1.pmtr(l2,b2))\n",
    "a1=r1.area(l1,b1)\n",
    "a2=r2.area(l2,b2)\n",
    "if a1>a2:\n",
    "    print(\"FIRST RECTANGLE IS LARGER IN AREA AND THE DIFFERENCE IS,\",(a1-a2))\n",
    "else:\n",
    "    print(\"SECOND RECTANGLE IS LARGER IN AREA AND THE DIFFERENCE IS,\",(a2-a1))"
   ]
  },
  {
   "cell_type": "code",
   "execution_count": 4,
   "metadata": {},
   "outputs": [
    {
     "name": "stdout",
     "output_type": "stream",
     "text": [
      "Enter name: hasna\n",
      "Enter roll no: 12\n",
      "Enter cls: 8\n",
      "ROLL NO,NAME,CLASS=  12 , hasna , 8\n"
     ]
    }
   ],
   "source": [
    "# 2 details of student using constructor\n",
    "class student:\n",
    "    def __init__(self,r,n,c):\n",
    "        self.rno=r\n",
    "        self.name=n\n",
    "        self.cls=c\n",
    "    def disp(self):\n",
    "        print(\"ROLL NO,NAME,CLASS= \",self.rno,\",\",self.name,\",\",self.cls)\n",
    "nm=input(\"Enter name: \")\n",
    "rn=int(input(\"Enter roll no: \"))\n",
    "cl=int(input(\"Enter cls: \"))\n",
    "stud=student(rn,nm,cl)\n",
    "stud.disp()"
   ]
  },
  {
   "cell_type": "code",
   "execution_count": 2,
   "metadata": {},
   "outputs": [
    {
     "name": "stdout",
     "output_type": "stream",
     "text": [
      "Enter account number: 123\n",
      "Enter name: hasna\n",
      "Enter account type: savings\n",
      "Enter first deposit(min-500):1000\n",
      "for withdraw press 1\n",
      "for deposite press 2 \n",
      "for exit press 3.1\n",
      "Enter amount to debit..1000\n",
      "sorry You dont have enough balance to debit...\n",
      "for withdraw press 1\n",
      "for deposite press 2 \n",
      "for exit press 3.1\n",
      "Enter amount to debit..10\n",
      "SUCCESSFULLY DEBITED...,Your current balance is  990\n",
      "for withdraw press 1\n",
      "for deposite press 2 \n",
      "for exit press 3.2\n",
      "Enter amount to deposite..12\n",
      "SUCCESSFULLY DEPOSITED...,Your current balance is  1002\n",
      "for withdraw press 1\n",
      "for deposite press 2 \n",
      "for exit press 3.1\n",
      "Enter amount to debit..10\n",
      "SUCCESSFULLY DEBITED...,Your current balance is  992\n",
      "for withdraw press 1\n",
      "for deposite press 2 \n",
      "for exit press 3.2\n",
      "Enter amount to deposite..2\n",
      "SUCCESSFULLY DEPOSITED...,Your current balance is  994\n",
      "for withdraw press 1\n",
      "for deposite press 2 \n",
      "for exit press 3.3\n",
      "Thank you come again...\n"
     ]
    }
   ],
   "source": [
    "# 3 bank account,deposit,debit\n",
    "class bankaccount:\n",
    "    def __init__(self,accno,name,typ,bal):\n",
    "        self.accnum=accno\n",
    "        self.nm=name\n",
    "        self.ty=typ\n",
    "        self.ba=bal\n",
    "    def deposit(self,damnt):\n",
    "        self.ba=self.ba+damnt\n",
    "        print(\"SUCCESSFULLY DEPOSITED...,Your current balance is \",self.ba)\n",
    "    def withdraw(self,wamnt):\n",
    "        self.ba=self.ba-wamnt\n",
    "        print(\"SUCCESSFULLY DEBITED...,Your current balance is \",self.ba)\n",
    "an=int(input(\"Enter account number: \"))\n",
    "na=input(\"Enter name: \")\n",
    "t=input(\"Enter account type: \")\n",
    "ba=int(input(\"Enter first deposit(min-500):\"))\n",
    "p1=bankaccount(an,na,t,ba)\n",
    "while(1):\n",
    "    ch=int(input(\"for withdraw press 1\\nfor deposite press 2 \\nfor exit press 3.\"))\n",
    "    if ch==1:\n",
    "        wamount=int(input(\"Enter amount to debit..\"))\n",
    "        if p1.ba<wamount+500:\n",
    "            print(\"sorry You dont have enough balance to debit...\")\n",
    "        else:\n",
    "            p1.withdraw(wamount)\n",
    "    elif ch==2:\n",
    "        damount=int(input(\"Enter amount to deposite..\"))\n",
    "        p1.deposit(damount)\n",
    "    else:\n",
    "        print(\"Thank you come again...\")\n",
    "        break"
   ]
  },
  {
   "cell_type": "code",
   "execution_count": 2,
   "metadata": {},
   "outputs": [
    {
     "name": "stdout",
     "output_type": "stream",
     "text": [
      "Enter publisher name:HASNA\n",
      "Enter book name: GOODBYE\n",
      "Enter author name: ASHIK\n",
      "Enter rate of book:345\n",
      "Enter number of pages:333\n",
      "Publisher name= HASNA\n",
      "Title= GOODBYE\n",
      "Author= ASHIK\n",
      "Rate= 345\n",
      "Number of pages= 333\n"
     ]
    }
   ],
   "source": [
    "# 4 publisher,book,title,author\n",
    "class publisher:\n",
    "    def __init__(self,pname):\n",
    "        self.pubname=pname\n",
    "    def dis(self):\n",
    "        print(\"Publisher name=\",self.pubname)\n",
    "class book(publisher):\n",
    "    def __init__(self,pname,bname,author):\n",
    "        self.title=bname\n",
    "        self.auth=author\n",
    "        publisher.__init__(self,pname)\n",
    "    def display(self):\n",
    "            print(\"Title=\",self.title)\n",
    "            print(\"Author=\",self.auth)\n",
    "class python(book):\n",
    "    def __init__(self,pname,titl,au,price,np):\n",
    "        self.rate=price\n",
    "        self.nop=np\n",
    "\n",
    "        book.__init__(self,pname,titl,au)\n",
    "    def disp(self):\n",
    "        print(\"Rate=\",self.rate)\n",
    "        print(\"Number of pages=\",self.nop)\n",
    "    \n",
    "p=input(\"Enter publisher name:\")\n",
    "bk=input(\"Enter book name: \")\n",
    "author=input(\"Enter author name: \")\n",
    "rt=int(input(\"Enter rate of book:\"))\n",
    "nup=int(input(\"Enter number of pages:\"))\n",
    "a=python(p,bk,author,rt,nup)\n",
    "a.dis()\n",
    "a.display()\n",
    "a.disp()"
   ]
  },
  {
   "cell_type": "code",
   "execution_count": 3,
   "metadata": {},
   "outputs": [
    {
     "name": "stdout",
     "output_type": "stream",
     "text": [
      "Enter name :HASNA\n",
      "Enter code :123\n",
      "Enter pay :99000\n",
      "Enter Experience :2\n",
      "\n",
      "CLASS EMPLOYEE\n",
      "Name:  HASNA\n",
      "Code:  123\n",
      "Pay:  99000\n",
      "Experience:  2\n",
      "\n",
      "CLASS ACCOUNT\n",
      "Member Pay 99000\n",
      "\n",
      "CLASS PERSON\n",
      "Name :  HASNA \n",
      "Code :  123\n",
      "\n",
      "CLASS ADMIN\n",
      "Experience 2\n"
     ]
    }
   ],
   "source": [
    "#5 Create base class called Person consisting of name and code.Create child class a)Account with member pay b)Admin with\n",
    "#experience.Create a class Employee with name,code,experience and pay by inheriting above class.\n",
    "\n",
    "class Person:\n",
    "    def __init__(self,name,code):\n",
    "        self.nm=name\n",
    "        self.cod=code    \n",
    "    def display(self):\n",
    "            print(\"\\nCLASS PERSON\\nName : \",self.nm,\"\\nCode : \",self.cod)\n",
    "       \n",
    "class Account(Person):\n",
    "    def __init__(self,pay):\n",
    "        self.p=pay  \n",
    "    def display(self):\n",
    "            print(\"\\nCLASS ACCOUNT\\nMember Pay\",self.p)\n",
    "            super(Admin,self).display()\n",
    "   \n",
    "class Admin(Person):\n",
    "    def __init__(self,exp):\n",
    "        self.e=exp\n",
    "    def display(self):\n",
    "            print(\"\\nCLASS ADMIN\\nExperience\",self.e)\n",
    "       \n",
    "class Employee(Account,Admin):\n",
    "    def __init__(self,nm,cd,pa,ex):\n",
    "        self.na=nm\n",
    "        self.c=cd\n",
    "        self.py=pa\n",
    "        self.expi=ex\n",
    "        Person.__init__(self,nm,cd)\n",
    "        Admin.__init__(self,ex)\n",
    "        Account.__init__(self,pa)\n",
    "       \n",
    "    def display(self):\n",
    "        print(\"\\nCLASS EMPLOYEE\")\n",
    "        print(\"Name: \",self.na)\n",
    "        print(\"Code: \",self.c)\n",
    "        print(\"Pay: \",self.py)\n",
    "        print(\"Experience: \",self.expi)\n",
    "       \n",
    "        super(Employee,self).display()\n",
    "        Admin.display(self)\n",
    "   \n",
    "n1=input(\"Enter name :\")\n",
    "c1=int(input(\"Enter code :\"))\n",
    "p1=int(input(\"Enter pay :\"))\n",
    "e1=int(input(\"Enter Experience :\"))\n",
    "\n",
    "a=Employee(n1,c1,p1,e1)\n",
    "a.display()"
   ]
  },
  {
   "cell_type": "code",
   "execution_count": 2,
   "metadata": {},
   "outputs": [
    {
     "name": "stdout",
     "output_type": "stream",
     "text": [
      "ENTER LENGTH OF FIRST RECTANGLE:2\n",
      "ENTER BREADTH OF FIRST RECTANGLE: 2\n",
      "ENTER LENGTH OF SECOND RECTANGLE:3\n",
      "ENTER BREADTH OF SECOND RECTANGLE:3\n",
      "Second is larger\n"
     ]
    }
   ],
   "source": [
    "# 6 example of operator overloading \">\"\n",
    "class Rectangle:\n",
    "    def __init__(self,l,b):\n",
    "        self.a=l*b\n",
    "\n",
    "\n",
    "    def __gt__(self,other):\n",
    "        if self.a>other.a:\n",
    "            print(\"First is larger\")\n",
    "        else:\n",
    "            print(\"Second is larger\")\n",
    "\n",
    "l1=int(input(\"ENTER LENGTH OF FIRST RECTANGLE:\" ))\n",
    "b1=int(input(\"ENTER BREADTH OF FIRST RECTANGLE: \"))\n",
    "l2=int(input(\"ENTER LENGTH OF SECOND RECTANGLE:\" ))\n",
    "b2=int(input(\"ENTER BREADTH OF SECOND RECTANGLE:\" ))\n",
    "r1=Rectangle(l1,b1)\n",
    "r2=Rectangle(l2,b2)\n",
    "r1>r2\n",
    "#if l1>l2:\n",
    "# print(\"First is larger\")\n",
    "#else:\n",
    "# print(\"Second is larger\")"
   ]
  },
  {
   "cell_type": "code",
   "execution_count": 1,
   "metadata": {},
   "outputs": [
    {
     "name": "stdout",
     "output_type": "stream",
     "text": [
      "Enter hours for first:1\n",
      "Enter minutes for first25\n",
      "Enter seconds for first:2\n",
      "\n",
      "Enter hours for second:30\n",
      "Enter minutes for second33\n",
      "Enter seconds for second:1\n",
      "\n",
      "Added Time\n",
      "Hour(s):31\n",
      "Minute(s):58\n",
      "Second(s): 3\n"
     ]
    }
   ],
   "source": [
    "#7 Create a class Time with private attributes hour, minute and second. Overload ‘+’ operator to find sum of 2 time\n",
    "\n",
    "class time:\n",
    "    def __init__(self,h,m,s):\n",
    "        self.__hour=h\n",
    "        self.__minute=m\n",
    "        self.__second=s\n",
    "       \n",
    "    def __add__(self,other):\n",
    "        self.__hour+=other.__hour\n",
    "        self.__minute+=other.__minute\n",
    "        self.__second+=other.__second\n",
    "           \n",
    "        if(self.__second>=60):\n",
    "            extra_minute=int(self.__second/60)\n",
    "            self.__second=self.__second%60\n",
    "            self.__minute+=extra_minute\n",
    "               \n",
    "        if(self.__minute>=60):\n",
    "            extra_hour=int(self.__minute/60)\n",
    "            self.__minute=self.__minute%6\n",
    "            self.__hour+=extra_hour\n",
    "       \n",
    "        print(\"\\nAdded Time\\nHour(s):\"+str(self.__hour)+\"\\nMinute(s):\"+str(self.__minute)+\n",
    "              \"\\nSecond(s): \"+str(self.__second))\n",
    "           \n",
    "h1=int(input(\"Enter hours for first:\"))\n",
    "m1=int(input(\"Enter minutes for first\"))\n",
    "s1=int(input(\"Enter seconds for first:\"))\n",
    "h2=int(input(\"\\nEnter hours for second:\"))\n",
    "m2=int(input(\"Enter minutes for second\"))\n",
    "s2=int(input(\"Enter seconds for second:\"))\n",
    "\n",
    "t1=time(h1,m1,s1)\n",
    "t2=time(h2,m2,s2)\n",
    "t1+t2"
   ]
  },
  {
   "cell_type": "code",
   "execution_count": null,
   "metadata": {
    "collapsed": true
   },
   "outputs": [],
   "source": []
  }
 ],
 "metadata": {
  "kernelspec": {
   "display_name": "Python 3",
   "language": "python",
   "name": "python3"
  },
  "language_info": {
   "codemirror_mode": {
    "name": "ipython",
    "version": 3
   },
   "file_extension": ".py",
   "mimetype": "text/x-python",
   "name": "python",
   "nbconvert_exporter": "python",
   "pygments_lexer": "ipython3",
   "version": "3.6.3"
  }
 },
 "nbformat": 4,
 "nbformat_minor": 2
}
