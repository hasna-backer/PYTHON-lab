{
 "cells": [
  {
   "cell_type": "code",
   "execution_count": 3,
   "metadata": {},
   "outputs": [
    {
     "name": "stdout",
     "output_type": "stream",
     "text": [
      "enter 1st no5\n",
      "enter 2nd no0\n",
      "division by 0 occured\n"
     ]
    }
   ],
   "source": [
    "try:\n",
    "    a=int(input(\"enter 1st no\"))\n",
    "    b=int(input(\"enter 2nd no\"))\n",
    "    r=a/b\n",
    "    print(\"result=\",r)\n",
    "except ZeroDivisionError:\n",
    "    print(\"division by 0 occured\")\n",
    "    "
   ]
  },
  {
   "cell_type": "code",
   "execution_count": 5,
   "metadata": {},
   "outputs": [
    {
     "name": "stdout",
     "output_type": "stream",
     "text": [
      "enter 1st noqqq\n",
      "error occured\n"
     ]
    }
   ],
   "source": [
    "try:\n",
    "    a=int(input(\"enter 1st no\"))\n",
    "    b=int(input(\"enter 2nd no\"))\n",
    "    r=a/b\n",
    "    print(\"result=\",r)\n",
    "except (ZeroDivisionError,ValueError):\n",
    "    print(\"error occured\")"
   ]
  },
  {
   "cell_type": "code",
   "execution_count": 18,
   "metadata": {},
   "outputs": [
    {
     "name": "stdout",
     "output_type": "stream",
     "text": [
      "enter a number89\n",
      "this value is too large\n",
      "enter a number1\n",
      "this value is too small\n",
      "enter a number10\n",
      "YOU GUESSED IT RIGHT\n"
     ]
    }
   ],
   "source": [
    "class Error(Exception):\n",
    "    'base class for other exceptions'\n",
    "    pass\n",
    "class Valuetoosmall(Error):\n",
    "    pass\n",
    "class valuetoolarge(Error):\n",
    "    pass\n",
    "num=10\n",
    "while True:\n",
    "    try:\n",
    "        in_num=int(input(\"enter a number\"))\n",
    "        if in_num<num:\n",
    "            raise valuetoosmall\n",
    "        elif in_num>num:\n",
    "            raise valuetoolarge\n",
    "        break;\n",
    "    except valuetoosmall:\n",
    "        print(\"this value is too small\")\n",
    "    except valuetoolarge:\n",
    "        print(\"this value is too large\")\n",
    "print(\"YOU GUESSED IT RIGHT\")"
   ]
  },
  {
   "cell_type": "code",
   "execution_count": 20,
   "metadata": {},
   "outputs": [
    {
     "name": "stdout",
     "output_type": "stream",
     "text": [
      "x should be 'hello'\n"
     ]
    }
   ],
   "source": [
    "x=\"hello\"\n",
    "try:\n",
    "    assert x==\"goodbye\",\"x should be 'hello'\"\n",
    "except AssertionError as args:\n",
    "    print(args)"
   ]
  },
  {
   "cell_type": "code",
   "execution_count": null,
   "metadata": {
    "collapsed": true
   },
   "outputs": [],
   "source": []
  }
 ],
 "metadata": {
  "kernelspec": {
   "display_name": "Python 3",
   "language": "python",
   "name": "python3"
  },
  "language_info": {
   "codemirror_mode": {
    "name": "ipython",
    "version": 3
   },
   "file_extension": ".py",
   "mimetype": "text/x-python",
   "name": "python",
   "nbconvert_exporter": "python",
   "pygments_lexer": "ipython3",
   "version": "3.6.3"
  }
 },
 "nbformat": 4,
 "nbformat_minor": 2
}
