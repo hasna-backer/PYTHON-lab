{
 "cells": [
  {
   "cell_type": "code",
   "execution_count": 2,
   "metadata": {},
   "outputs": [
    {
     "name": "stdout",
     "output_type": "stream",
     "text": [
      "08.02.22\n",
      "\n",
      "18.2.10\n"
     ]
    }
   ],
   "source": [
    "import re\n",
    "file=open(\"ram.txt\",\"r\")\n",
    "text=file.readlines()\n",
    "file.close()\n",
    "keyword=re.compile('\\d\\d?\\.\\d\\d?\\.\\d\\d')\n",
    "for line in text:\n",
    "    if keyword.search(line):\n",
    "        print(line)"
   ]
  },
  {
   "cell_type": "code",
   "execution_count": null,
   "metadata": {
    "collapsed": true
   },
   "outputs": [],
   "source": []
  }
 ],
 "metadata": {
  "kernelspec": {
   "display_name": "Python 3",
   "language": "python",
   "name": "python3"
  },
  "language_info": {
   "codemirror_mode": {
    "name": "ipython",
    "version": 3
   },
   "file_extension": ".py",
   "mimetype": "text/x-python",
   "name": "python",
   "nbconvert_exporter": "python",
   "pygments_lexer": "ipython3",
   "version": "3.6.3"
  }
 },
 "nbformat": 4,
 "nbformat_minor": 2
}
