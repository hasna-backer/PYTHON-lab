{
 "cells": [
  {
   "cell_type": "code",
   "execution_count": 8,
   "metadata": {},
   "outputs": [
    {
     "name": "stdout",
     "output_type": "stream",
     "text": [
      "enter numbers seperated by commas2,5,9,0\n",
      "list of numbers are ['2', '5', '9', '0']\n"
     ]
    }
   ],
   "source": [
    "#listing numbers in which numbers are seperated by commas\n",
    "n=input(\"enter numbers seperated by commas\")\n",
    "list=n.split(\",\");\n",
    "print(\"list of numbers are\",list);"
   ]
  },
  {
   "cell_type": "code",
   "execution_count": 9,
   "metadata": {},
   "outputs": [
    {
     "name": "stdout",
     "output_type": "stream",
     "text": [
      "enter colours seperated by comma: red,yellow,green,blue\n",
      "the first colour from list is: red\n",
      "the last colour from list is: blue\n"
     ]
    }
   ],
   "source": [
    "#listing colours in which they are seperated by comma\n",
    "clr=input(\"enter colours seperated by comma: \")\n",
    "list=clr.split(\",\");\n",
    "print(\"the first colour from list is:\",list[0])\n",
    "print(\"the last colour from list is:\",list[-1])\n"
   ]
  },
  {
   "cell_type": "code",
   "execution_count": 7,
   "metadata": {},
   "outputs": [
    {
     "name": "stdout",
     "output_type": "stream",
     "text": [
      "enter a file name: data.c\n",
      "entension of file is c\n"
     ]
    }
   ],
   "source": [
    "#to print the extension of the file entered by user\n",
    "file=input(\"enter a file name: \")\n",
    "ext=file.split(\".\")\n",
    "print(\"entension of file is\",ext[-1])\n"
   ]
  },
  {
   "cell_type": "code",
   "execution_count": null,
   "metadata": {
    "collapsed": true
   },
   "outputs": [],
   "source": []
  }
 ],
 "metadata": {
  "kernelspec": {
   "display_name": "Python 3",
   "language": "python",
   "name": "python3"
  },
  "language_info": {
   "codemirror_mode": {
    "name": "ipython",
    "version": 3
   },
   "file_extension": ".py",
   "mimetype": "text/x-python",
   "name": "python",
   "nbconvert_exporter": "python",
   "pygments_lexer": "ipython3",
   "version": "3.6.3"
  }
 },
 "nbformat": 4,
 "nbformat_minor": 2
}
