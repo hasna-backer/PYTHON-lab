{
 "cells": [
  {
   "cell_type": "code",
   "execution_count": 1,
   "metadata": {},
   "outputs": [
    {
     "name": "stdout",
     "output_type": "stream",
     "text": [
      "enter first number 9\n",
      "enter second number12\n",
      "greatest common divisor of 9 and 12 is 3\n"
     ]
    }
   ],
   "source": [
    "num1=int(input(\"enter first number \"))\n",
    "num2=int(input(\"enter second number\"))\n",
    "if num1<num2:\n",
    "    m=num1\n",
    "else:\n",
    "    m=num2\n",
    "while m>0:\n",
    "    if (num1%m==0) and (num2%m==0):\n",
    "        print(\"greatest common divisor of\",num1, \"and\",num2, \"is\",m)\n",
    "        break\n",
    "    m=m-1"
   ]
  },
  {
   "cell_type": "code",
   "execution_count": 3,
   "metadata": {},
   "outputs": [
    {
     "name": "stdout",
     "output_type": "stream",
     "text": [
      "enter a number3\n",
      "factorial of  3 is 6\n"
     ]
    }
   ],
   "source": [
    "#to find factorial of agiven number\n",
    "n=int(input(\"enter a number\"))\n",
    "num=n\n",
    "f=1\n",
    "i=1\n",
    "while i<=n:\n",
    "    f=f*i\n",
    "    i=i+1\n",
    "print(\"factorial of \",num, \"is\",f)"
   ]
  },
  {
   "cell_type": "code",
   "execution_count": 3,
   "metadata": {},
   "outputs": [
    {
     "name": "stdout",
     "output_type": "stream",
     "text": [
      "enter a number5\n",
      "fibonacci seies:\n",
      "\n",
      "0\n",
      "1\n",
      "1\n",
      "2\n",
      "3\n"
     ]
    }
   ],
   "source": [
    "#fibonacci upto a limit\n",
    "n=int(input(\"enter a number\"))\n",
    "n1,n2=0,1\n",
    "if n<=0:\n",
    "    print(\"enter a postive integer\")\n",
    "elif n<3 or n>0:\n",
    "    print(\"fibonacci seies:\\n\")\n",
    "    print(n1)\n",
    "    print(n2)\n",
    "while n>2:\n",
    "     f=n1+n2\n",
    "     print(f)\n",
    "     n1=n2\n",
    "     n2=f\n",
    "     n=n-1\n",
    "            "
   ]
  },
  {
   "cell_type": "code",
   "execution_count": 4,
   "metadata": {},
   "outputs": [
    {
     "name": "stdout",
     "output_type": "stream",
     "text": [
      "enter some numbers seperated by commas5,8,2,5\n",
      "sum of elements of list ['5', '8', '2', '5'] is: 20\n"
     ]
    }
   ],
   "source": [
    "#sum of elements of list\n",
    "string=input(\"enter some numbers seperated by commas\")\n",
    "lis=string.split(\",\")\n",
    "s=i=0\n",
    "for i in lis:\n",
    "    s=s+int(i)\n",
    "print(\"sum of elements of list\",lis, \"is:\",s)"
   ]
  },
  {
   "cell_type": "code",
   "execution_count": 5,
   "metadata": {},
   "outputs": [
    {
     "name": "stdout",
     "output_type": "stream",
     "text": [
      "enter a number5\n",
      "pyramid is\n",
      "1 \n",
      "\n",
      "2 4 \n",
      "\n",
      "3 6 9 \n",
      "\n",
      "4 8 12 16 \n",
      "\n",
      "5 10 15 20 25 \n",
      "\n"
     ]
    }
   ],
   "source": [
    "#pyramid of multiples\n",
    "n=int(input(\"enter a number\"))\n",
    "print(\"pyramid is\")\n",
    "for i in range(1,n+1):\n",
    "    for j in range(1,i+1):\n",
    "        print(i*j,end=\" \")\n",
    "    print(\"\\n\")\n",
    "    \n"
   ]
  },
  {
   "cell_type": "code",
   "execution_count": 6,
   "metadata": {},
   "outputs": [
    {
     "name": "stdout",
     "output_type": "stream",
     "text": [
      "the * pyramid is\n",
      "\n",
      "\n",
      "* \n",
      "\n",
      "* * \n",
      "\n",
      "* * * \n",
      "\n",
      "* * * * \n",
      "\n",
      "* * * * * \n",
      "\n",
      "* * * * \n",
      "\n",
      "* * * \n",
      "\n",
      "* * \n",
      "\n",
      "* \n",
      "\n"
     ]
    }
   ],
   "source": [
    "#star pattern\n",
    "print(\"the * pyramid is\\n\\n\")\n",
    "for i in range(0,4):\n",
    "    for j in range(0,i+1):\n",
    "         print(\"*\",end=\" \")\n",
    "    print(\"\\n\")\n",
    "for i in range(4,-1,-1):\n",
    "        \n",
    "    for j in range(0,i+1):\n",
    "        print(\"*\",end=\" \")\n",
    "    print(\"\\n\")\n",
    "    "
   ]
  },
  {
   "cell_type": "code",
   "execution_count": 7,
   "metadata": {},
   "outputs": [
    {
     "name": "stdout",
     "output_type": "stream",
     "text": [
      "enter a number99\n",
      "factors of given number: \n",
      "99  33  11  9  3  1  "
     ]
    }
   ],
   "source": [
    "num=int(input(\"enter a number\"))\n",
    "i=num\n",
    "print(\"factors of given number: \")\n",
    "while i>0:\n",
    "    if(num%i==0):\n",
    "        print(i,\" \",end=\"\")\n",
    "    i=i-1    "
   ]
  },
  {
   "cell_type": "code",
   "execution_count": 1,
   "metadata": {},
   "outputs": [
    {
     "name": "stdout",
     "output_type": "stream",
     "text": [
      "enter a number52\n",
      "factors of given number is\n",
      "52 \n",
      "\n",
      "26 \n",
      "\n",
      "13 \n",
      "\n",
      "4 \n",
      "\n",
      "2 \n",
      "\n",
      "1 \n",
      "\n"
     ]
    }
   ],
   "source": [
    "#factors of a given number\n",
    "n=int(input(\"enter a number\"))\n",
    "i=n\n",
    "\n",
    "print(\"factors of given number is\")\n",
    "while i>0:\n",
    "    if(n%i==0):\n",
    "        print(i,\"\\n\")\n",
    "    i=i-1"
   ]
  },
  {
   "cell_type": "code",
   "execution_count": 1,
   "metadata": {},
   "outputs": [
    {
     "name": "stdout",
     "output_type": "stream",
     "text": [
      "enter a string hasna\n",
      "number of occurences of h in word is 1\n",
      "number of occurences of a in word is 2\n",
      "number of occurences of s in word is 1\n",
      "number of occurences of n in word is 1\n"
     ]
    }
   ],
   "source": [
    "str1=input(\"enter a string \")\n",
    "l=list(str1)\n",
    "s=[]\n",
    "[s.append(x) for x in l if x not in s]\n",
    "for i in s:\n",
    "    m=l.count(i)\n",
    "    print(\"number of occurences of\",i,\"in word is\",m)"
   ]
  },
  {
   "cell_type": "code",
   "execution_count": null,
   "metadata": {
    "collapsed": true
   },
   "outputs": [],
   "source": []
  }
 ],
 "metadata": {
  "kernelspec": {
   "display_name": "Python 3",
   "language": "python",
   "name": "python3"
  },
  "language_info": {
   "codemirror_mode": {
    "name": "ipython",
    "version": 3
   },
   "file_extension": ".py",
   "mimetype": "text/x-python",
   "name": "python",
   "nbconvert_exporter": "python",
   "pygments_lexer": "ipython3",
   "version": "3.6.3"
  }
 },
 "nbformat": 4,
 "nbformat_minor": 2
}
