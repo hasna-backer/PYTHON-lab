{
 "cells": [
  {
   "cell_type": "code",
   "execution_count": 9,
   "metadata": {},
   "outputs": [
    {
     "name": "stdout",
     "output_type": "stream",
     "text": [
      "enter a number:1\n",
      "enter a number:1\n",
      "enter a number:1\n"
     ]
    },
    {
     "data": {
      "text/plain": [
       "9"
      ]
     },
     "execution_count": 9,
     "metadata": {},
     "output_type": "execute_result"
    }
   ],
   "source": [
    "# sum using function\n",
    "def sum(x, y, z):\n",
    "\n",
    "     sum = x + y + z\n",
    "  \n",
    "     if x == y == z:\n",
    "      sum = sum * 3\n",
    "     return sum\n",
    "a=int(input(\"enter a number:\"))\n",
    "b=int(input(\"enter a number:\"))\n",
    "c=int(input(\"enter a number:\"))\n",
    "sum(a,b,c)\n"
   ]
  },
  {
   "cell_type": "code",
   "execution_count": 11,
   "metadata": {},
   "outputs": [
    {
     "name": "stdout",
     "output_type": "stream",
     "text": [
      "enter a number:234\n",
      "sum is: 9\n"
     ]
    }
   ],
   "source": [
    "#sum of digit\n",
    "def s(n):\n",
    "    sum=0\n",
    "    while(n>0):\n",
    "        d=int(n%10)\n",
    "        sum=sum+d\n",
    "        n=n/10\n",
    "    return sum\n",
    "a=int(input(\"enter a number:\"))\n",
    "\n",
    "print(\"sum is:\",s(a))"
   ]
  },
  {
   "cell_type": "code",
   "execution_count": 12,
   "metadata": {},
   "outputs": [
    {
     "name": "stdout",
     "output_type": "stream",
     "text": [
      "enter your string: Ashik\n",
      "we have  1 upper case letters and  4 small case letters\n"
     ]
    }
   ],
   "source": [
    "#no of uppercase and lower case of word\n",
    "def ltr(s):\n",
    "    i=0\n",
    "    j=0\n",
    "    for c in s:\n",
    "        if c.isupper():\n",
    "            i=i+1\n",
    "        elif c.islower():\n",
    "            j=j+1\n",
    "    print(\"we have \",i,\"upper case letters and \",j,\"small case letters\")\n",
    "    \n",
    "s=input(\"enter your string: \")\n",
    "ltr(s)"
   ]
  },
  {
   "cell_type": "code",
   "execution_count": 1,
   "metadata": {},
   "outputs": [
    {
     "name": "stdout",
     "output_type": "stream",
     "text": [
      "enter a number: 10\n",
      " not a prime number\n"
     ]
    }
   ],
   "source": [
    "#prime or not\n",
    "def prime(n):\n",
    "    i=2\n",
    "    f=0\n",
    "    while n%i==0:\n",
    "        f=1\n",
    "        break\n",
    "    i=i+110\n",
    "    if f==1:\n",
    "        print(\" not a prime number\")\n",
    "    else:\n",
    "    \n",
    "        print(\" prime number\")\n",
    "    \n",
    "n=int(input(\"enter a number: \"))\n",
    "prime(n)"
   ]
  },
  {
   "cell_type": "markdown",
   "metadata": {},
   "source": [
    "#leap yrs in a range\n",
    "a=int(input(\"Enter current year: \"))\n",
    "b=int(input(\"Enter limit of year: \"))\n",
    "def leap(l,u):\n",
    "    \n",
    "    for i in range(l,u+1):\n",
    "        \n",
    "        if i%4==0:\n",
    "            if i%100==0:\n",
    "                if i%400==0:\n",
    "                    print(i,\",\",end=\"\")\n",
    "            print(i,\",\",end=\"\")\n",
    "print(\"The leap years in the range are: \")\n",
    "leap(a,b)"
   ]
  },
  {
   "cell_type": "code",
   "execution_count": 2,
   "metadata": {},
   "outputs": [
    {
     "name": "stdout",
     "output_type": "stream",
     "text": [
      "Enter name of employee: hasna\n",
      "Enter salary of employee: 0\n",
      "The inputed Employee name is  hasna  and his salary is  8000\n"
     ]
    }
   ],
   "source": [
    "#employee name salary\n",
    "def showEmployee(empname,sal=8000):\n",
    "    print(\"The inputed Employee name is \",empname,\" and his salary is \",sal)\n",
    "name=input(\"Enter name of employee: \")\n",
    "salary=int(input(\"Enter salary of employee: \"))\n",
    "if salary>0:\n",
    "        showEmployee(name,salary)\n",
    "else:\n",
    "        showEmployee(name)"
   ]
  },
  {
   "cell_type": "code",
   "execution_count": 4,
   "metadata": {},
   "outputs": [
    {
     "name": "stdout",
     "output_type": "stream",
     "text": [
      "Enter values: 1,-99,0,455\n",
      "Minimum of entered items:  -99\n"
     ]
    }
   ],
   "source": [
    "#min of argument values\n",
    "def minvalue(*tup):\n",
    "    print(\"Minimum of entered items: \",min(tup))\n",
    "n=list(map(int,input(\"Enter values: \").split(\",\")))\n",
    "minvalue(*n)"
   ]
  },
  {
   "cell_type": "code",
   "execution_count": 8,
   "metadata": {},
   "outputs": [
    {
     "name": "stdout",
     "output_type": "stream",
     "text": [
      "Enter number of persons : 2\n",
      "Details for person: 1\n",
      "Enter number of information you wish to provide: 2\n",
      "Enter any type of info: name\n",
      "Enter its value: hasna\n",
      "Enter any type of info: age\n",
      "Enter its value: 22\n",
      "{'name': 'hasna', 'age': '22'}\n",
      "\n",
      "\n",
      "Details for person: 2\n",
      "Enter number of information you wish to provide: 3\n",
      "Enter any type of info: name\n",
      "Enter its value: scissna\n",
      "Enter any type of info: salry\n",
      "Enter its value: 22222\n",
      "Enter any type of info: address\n",
      "Enter its value: home\n",
      "{'name': 'scissna', 'salry': '22222', 'address': 'home'}\n",
      "\n",
      "\n"
     ]
    }
   ],
   "source": [
    "#userinfo\n",
    "def uinfo(**d1):\n",
    "    print(d1)\n",
    "    d.clear()\n",
    "    print(\"\\n\")\n",
    "\n",
    "d={}\n",
    "n=int(input(\"Enter number of persons : \"))\n",
    "for i in range(n):\n",
    "    print(\"Details for person:\",i+1)\n",
    "    n2=int(input(\"Enter number of information you wish to provide: \"))\n",
    "    for j in range(n2):\n",
    "        key=input(\"Enter any type of info: \")\n",
    "        val=input(\"Enter its value: \")\n",
    "        d.update({key:val})\n",
    "    uinfo(**d)"
   ]
  },
  {
   "cell_type": "code",
   "execution_count": null,
   "metadata": {
    "collapsed": true
   },
   "outputs": [],
   "source": []
  }
 ],
 "metadata": {
  "kernelspec": {
   "display_name": "Python 3",
   "language": "python",
   "name": "python3"
  },
  "language_info": {
   "codemirror_mode": {
    "name": "ipython",
    "version": 3
   },
   "file_extension": ".py",
   "mimetype": "text/x-python",
   "name": "python",
   "nbconvert_exporter": "python",
   "pygments_lexer": "ipython3",
   "version": "3.6.3"
  }
 },
 "nbformat": 4,
 "nbformat_minor": 2
}
