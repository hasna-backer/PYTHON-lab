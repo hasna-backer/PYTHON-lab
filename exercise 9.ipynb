{
 "cells": [
  {
   "cell_type": "code",
   "execution_count": 1,
   "metadata": {},
   "outputs": [
    {
     "name": "stdout",
     "output_type": "stream",
     "text": [
      "\n",
      "1.SQUARE\n",
      "2.RECTANGLE\n",
      "3.TRIANGLE\n",
      "4.EXIT\n",
      "Enter your option:1\n",
      "Enter the length of Square:4\n",
      "Area of Square is : 16\n",
      "\n",
      "1.SQUARE\n",
      "2.RECTANGLE\n",
      "3.TRIANGLE\n",
      "4.EXIT\n",
      "Enter your option:2\n",
      "Enter the length of Rectangle:2\n",
      "Enter the breadth of Rectangle:4\n",
      "Area of Rectangle is : 8\n",
      "\n",
      "1.SQUARE\n",
      "2.RECTANGLE\n",
      "3.TRIANGLE\n",
      "4.EXIT\n",
      "Enter your option:3\n",
      "Enter the base of Triangle:2\n",
      "Enter the height of Triangle:2\n",
      "Area of Triangle is : 2.0\n",
      "\n",
      "1.SQUARE\n",
      "2.RECTANGLE\n",
      "3.TRIANGLE\n",
      "4.EXIT\n",
      "Enter your option:4\n",
      "Exiting.....!\n"
     ]
    }
   ],
   "source": [
    "#lambda function to find area of square,rectangle and triangle\n",
    "sarea=lambda a:a*a\n",
    "rectarea=lambda a,b:a*b\n",
    "triarea=lambda b,h:(b*h)/2\n",
    "while(1):\n",
    "    print(\"\\n1.SQUARE\\n2.RECTANGLE\\n3.TRIANGLE\\n4.EXIT\")\n",
    "    c=int(input(\"Enter your option:\"))\n",
    "    if c==1:\n",
    "        a=int(input(\"Enter the length of Square:\"))\n",
    "        print(\"Area of Square is :\",sarea(a)) \n",
    "    elif c==2:\n",
    "        a=int(input(\"Enter the length of Rectangle:\"))\n",
    "        b=int(input(\"Enter the breadth of Rectangle:\"))\n",
    "        print(\"Area of Rectangle is :\",rectarea(a,b))      \n",
    "    elif c==3:\n",
    "        b=int(input(\"Enter the base of Triangle:\"))\n",
    "        h=int(input(\"Enter the height of Triangle:\"))\n",
    "        print(\"Area of Triangle is :\",triarea(b,h))\n",
    "    else:\n",
    "        print(\"Exiting.....!\")\n",
    "        break\n"
   ]
  },
  {
   "cell_type": "code",
   "execution_count": 3,
   "metadata": {},
   "outputs": [
    {
     "name": "stdout",
     "output_type": "stream",
     "text": [
      "Enter 4 digit lower range:1000\n",
      "Enter 4 digit upper range:9999\n",
      "List= [4624, 6084, 6400, 8464]\n"
     ]
    }
   ],
   "source": [
    "#generate a list of four digit numbers in a given range with \n",
    "#all their digits even and the number is a perfect square \n",
    "import math\n",
    "n1=int(input(\"Enter 4 digit lower range:\"))\n",
    "n2=int(input(\"Enter 4 digit upper range:\"))\n",
    "l=[]\n",
    "x=0\n",
    "for i in range(n1,n2):\n",
    "    x=i\n",
    "    while(x!=0):\n",
    "        k1=x%10\n",
    "        x=int(x/10)\n",
    "        k2=x%10\n",
    "        x=int(x/10)\n",
    "        k3=x%10\n",
    "        x=int(x/10)\n",
    "        k4=x%10\n",
    "        x=int(x/10)\n",
    "        sq=int(math.sqrt(i))\n",
    "        if sq*sq==i:\n",
    "            if k1%2==0 and k2%2==0 and k3%2==0 and k4%2==0:\n",
    "                l.append(i)\n",
    "print(\"List=\",l)\n",
    "\n"
   ]
  },
  {
   "cell_type": "code",
   "execution_count": 4,
   "metadata": {},
   "outputs": [
    {
     "name": "stdout",
     "output_type": "stream",
     "text": [
      "Enter a word:film\n",
      "The new word is : filming\n"
     ]
    }
   ],
   "source": [
    "#add'ing' at the end of a given string.if it already ends with 'ing',then add 'ly'\n",
    "w=input(\"Enter a word:\")\n",
    "str1=w[-3:]\n",
    "if str1=='ing':\n",
    "    w=w+'ly'\n",
    "else:\n",
    "    w=w+'ing'\n",
    "print(\"The new word is :\",w)\n",
    "\n"
   ]
  },
  {
   "cell_type": "code",
   "execution_count": 1,
   "metadata": {},
   "outputs": [
    {
     "name": "stdout",
     "output_type": "stream",
     "text": [
      "Enter 4 digit lower range:2000\n",
      "Enter 4 digit upper range:9999\n",
      "List= [4624, 6084, 6400, 8464]\n"
     ]
    }
   ],
   "source": [
    "#generate a list of four digit numbers in a given range with all their digits even and the number is a perfect square \n",
    "import math\n",
    "n1=int(input(\"Enter 4 digit lower range:\"))\n",
    "n2=int(input(\"Enter 4 digit upper range:\"))\n",
    "l=[]\n",
    "x=0\n",
    "for i in range(n1,n2):\n",
    "    x=i\n",
    "    while(x!=0):\n",
    "        k1=x%10\n",
    "        x=int(x/10)\n",
    "        k2=x%10\n",
    "        x=int(x/10)\n",
    "        k3=x%10\n",
    "        x=int(x/10)\n",
    "        k4=x%10\n",
    "        x=int(x/10)\n",
    "        sq=int(math.sqrt(i))\n",
    "        if sq*sq==i:\n",
    "            if k1%2==0 and k2%2==0 and k3%2==0 and k4%2==0:\n",
    "                l.append(i)\n",
    "print(\"List=\",l)\n",
    "\n"
   ]
  },
  {
   "cell_type": "code",
   "execution_count": 3,
   "metadata": {},
   "outputs": [
    {
     "name": "stdout",
     "output_type": "stream",
     "text": [
      "Enter a list of words with comma seperated :ASD,H,HYYYYYYYY,HY\n",
      "Length of the longest word in the list is :  9\n"
     ]
    }
   ],
   "source": [
    "#Accept a list words and return length of longest word\n",
    "w=[]\n",
    "l=list(map(str,input(\"Enter a list of words with comma seperated :\").split(\",\")))\n",
    "for i in l:\n",
    "    w.append(len(i))\n",
    "print(\"Length of the longest word in the list is : \",max(w))"
   ]
  },
  {
   "cell_type": "code",
   "execution_count": null,
   "metadata": {
    "collapsed": true
   },
   "outputs": [],
   "source": []
  }
 ],
 "metadata": {
  "kernelspec": {
   "display_name": "Python 3",
   "language": "python",
   "name": "python3"
  },
  "language_info": {
   "codemirror_mode": {
    "name": "ipython",
    "version": 3
   },
   "file_extension": ".py",
   "mimetype": "text/x-python",
   "name": "python",
   "nbconvert_exporter": "python",
   "pygments_lexer": "ipython3",
   "version": "3.6.3"
  }
 },
 "nbformat": 4,
 "nbformat_minor": 2
}
